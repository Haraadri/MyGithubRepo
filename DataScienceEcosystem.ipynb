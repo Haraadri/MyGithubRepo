{
 "cells": [
  {
   "cell_type": "markdown",
   "id": "55aba3bf",
   "metadata": {},
   "source": [
    "# Data Science Tools and Ecosystem"
   ]
  },
  {
   "cell_type": "markdown",
   "id": "2242dea8",
   "metadata": {},
   "source": [
    "## In this notebook, Data Science Tools and Ecosystem are summarized."
   ]
  },
  {
   "cell_type": "markdown",
   "id": "a096bda2",
   "metadata": {},
   "source": [
    "Some of the popular languages that Data Scientists use are:\n",
    "1. Python\n",
    "2. R\n",
    "3. SQL\n",
    "4. Julia\n",
    "5. Scala"
   ]
  },
  {
   "cell_type": "markdown",
   "id": "a845b330",
   "metadata": {},
   "source": [
    "Some of the commonly used libraries used by Data Scientists include:\n",
    "1. NumPy\n",
    "2. Pandas\n",
    "3. Matplotlib\n",
    "4. scikit-learn\n",
    "5. TensorFlow\n",
    "6. ggplot2"
   ]
  },
  {
   "cell_type": "markdown",
   "id": "cfcb1de6",
   "metadata": {},
   "source": [
    "| Data Science Tools        |\n",
    "| ------------------------- |\n",
    "| RStudio                   |\n",
    "| Jupyter Notebook          |\n",
    "| VSCode with Python plugin |"
   ]
  },
  {
   "cell_type": "markdown",
   "id": "555e0dba",
   "metadata": {},
   "source": [
    "### Below are a few examples of evaluating arithmetic expressions in Python"
   ]
  },
  {
   "cell_type": "code",
   "execution_count": 5,
   "id": "433d6a9e",
   "metadata": {},
   "outputs": [
    {
     "data": {
      "text/plain": [
       "17"
      ]
     },
     "execution_count": 5,
     "metadata": {},
     "output_type": "execute_result"
    }
   ],
   "source": [
    "# This is a simple arithmetic expression to multiply then add integers\n",
    "(3 * 4) + 5"
   ]
  },
  {
   "cell_type": "code",
   "execution_count": 6,
   "id": "77768f7c",
   "metadata": {},
   "outputs": [
    {
     "data": {
      "text/plain": [
       "3.3333333333333335"
      ]
     },
     "execution_count": 6,
     "metadata": {},
     "output_type": "execute_result"
    }
   ],
   "source": [
    "#This will convert 200 minutes to hours by diving by 60\n",
    "minutes = 200\n",
    "hours = minutes/60\n",
    "hours"
   ]
  },
  {
   "cell_type": "markdown",
   "id": "f917da96",
   "metadata": {},
   "source": [
    "**Objectives**\n",
    "* Data Science Tools and Ecosystem\n",
    "* Some of the popular languages that Data Scientists use\n",
    "* Some of the commonly used libraries by Data Scientists\n",
    "* Few examples of evaluating arithmetic expressions in Python"
   ]
  },
  {
   "cell_type": "markdown",
   "id": "7238fff6",
   "metadata": {},
   "source": [
    "## Author\n",
    "Kailash Pasupuleti"
   ]
  },
  {
   "cell_type": "code",
   "execution_count": null,
   "id": "b012f6ed",
   "metadata": {},
   "outputs": [],
   "source": []
  }
 ],
 "metadata": {
  "kernelspec": {
   "display_name": "Python 3 (ipykernel)",
   "language": "python",
   "name": "python3"
  },
  "language_info": {
   "codemirror_mode": {
    "name": "ipython",
    "version": 3
   },
   "file_extension": ".py",
   "mimetype": "text/x-python",
   "name": "python",
   "nbconvert_exporter": "python",
   "pygments_lexer": "ipython3",
   "version": "3.11.5"
  }
 },
 "nbformat": 4,
 "nbformat_minor": 5
}
